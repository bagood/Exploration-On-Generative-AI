{
 "cells": [
  {
   "cell_type": "code",
   "execution_count": null,
   "id": "3d13c7fa-7873-41de-aa3f-11fe3c5c864a",
   "metadata": {},
   "outputs": [],
   "source": [
    "!pip install --user --upgrade datasets transformers langchain langchain-huggingface"
   ]
  },
  {
   "cell_type": "code",
   "execution_count": null,
   "id": "09fa1861-a865-488d-9c3c-d57c329e814a",
   "metadata": {
    "tags": []
   },
   "outputs": [],
   "source": [
    "!rm -r chroma_db/chroma_db_all-mpnet-base-v2\n",
    "!mkdir chroma_db/chroma_db_all-mpnet-base-v2"
   ]
  },
  {
   "cell_type": "code",
   "execution_count": null,
   "id": "8cd6cbf1-7099-47bf-b1a7-fca92e7f450b",
   "metadata": {
    "tags": []
   },
   "outputs": [],
   "source": [
    "GOOGLE_API_KEY='INSERT THE GOOGLE API KEY'"
   ]
  },
  {
   "cell_type": "markdown",
   "id": "408cdba8-d768-454b-a200-f5cbdd2e81cb",
   "metadata": {
    "jp-MarkdownHeadingCollapsed": true,
    "tags": []
   },
   "source": [
    "# Import Packages & Set All Parameters"
   ]
  },
  {
   "cell_type": "markdown",
   "id": "ffb29030-1f88-4f4a-a9f1-5e2d07ad339a",
   "metadata": {
    "jp-MarkdownHeadingCollapsed": true,
    "tags": []
   },
   "source": [
    "## Import Packages"
   ]
  },
  {
   "cell_type": "code",
   "execution_count": null,
   "id": "f7d88857-646a-4fa6-830b-59b8594496ee",
   "metadata": {},
   "outputs": [],
   "source": [
    "import os\n",
    "import torch\n",
    "from tqdm.notebook import tqdm\n",
    "from datasets import load_dataset\n",
    "from transformers import (\n",
    "    AutoModel,\n",
    "    AutoModelForCausalLM,\n",
    "    AutoTokenizer,\n",
    "    BitsAndBytesConfig,\n",
    "    HfArgumentParser,\n",
    "    TrainingArguments,\n",
    "    pipeline,\n",
    "    logging\n",
    ")\n",
    "\n",
    "from operator import itemgetter\n",
    "from langchain.load import dumps, loads\n",
    "from langchain.vectorstores import Chroma\n",
    "from langchain.schema import StrOutputParser\n",
    "from langchain.llms import HuggingFacePipeline\n",
    "from langchain_huggingface import HuggingFaceEmbeddings\n",
    "from langchain.schema.runnable import RunnablePassthrough\n",
    "from langchain_google_genai import ChatGoogleGenerativeAI\n",
    "from langchain.prompts import PromptTemplate, ChatPromptTemplate\n",
    "from langchain.docstore.document import Document as LangchainDocument"
   ]
  },
  {
   "cell_type": "markdown",
   "id": "513ee411-2267-4738-b8ca-821fb473f185",
   "metadata": {
    "jp-MarkdownHeadingCollapsed": true,
    "tags": []
   },
   "source": [
    "## Set All Parameters"
   ]
  },
  {
   "cell_type": "code",
   "execution_count": null,
   "id": "ac5d782f-af5b-4108-a12f-0e7e68208ce7",
   "metadata": {},
   "outputs": [],
   "source": [
    "# Name of the model to use from the HuggingFace Hub\n",
    "model_name = \"bagoood/create_python_code_from_instruction_llama\"\n",
    "\n",
    "# Activate 4-bit precision base model loading\n",
    "use_4bit = True\n",
    "\n",
    "# Compute dtype for 4-bit base models\n",
    "bnb_4bit_compute_dtype = \"float16\"\n",
    "\n",
    "# Quantization type (fp4 or nf4)\n",
    "bnb_4bit_quant_type = \"nf4\"\n",
    "\n",
    "# Activate nested quantization for 4-bit base models (double quantization)\n",
    "use_nested_quant = False\n",
    "\n",
    "# Load the entire model on the GPU 0\n",
    "device_map = {\"\": 0}"
   ]
  },
  {
   "cell_type": "markdown",
   "id": "105bd8f7-cbdb-4251-81e0-4489fee8aa20",
   "metadata": {
    "jp-MarkdownHeadingCollapsed": true,
    "tags": []
   },
   "source": [
    "# Load Model"
   ]
  },
  {
   "cell_type": "code",
   "execution_count": null,
   "id": "d7b742cb-2d3a-486e-a722-62810dc847fc",
   "metadata": {},
   "outputs": [],
   "source": [
    "# Load tokenizer\n",
    "compute_dtype = getattr(torch, bnb_4bit_compute_dtype)\n",
    "\n",
    "bnb_config = BitsAndBytesConfig(\n",
    "    load_in_4bit=use_4bit,\n",
    "    bnb_4bit_quant_type=bnb_4bit_quant_type,\n",
    "    bnb_4bit_compute_dtype=compute_dtype,\n",
    "    bnb_4bit_use_double_quant=use_nested_quant,\n",
    ")\n",
    "\n",
    "# Load base model\n",
    "model = AutoModelForCausalLM.from_pretrained(\n",
    "    model_name,\n",
    "    quantization_config=bnb_config,\n",
    "    device_map=device_map\n",
    ")\n",
    "model.config.use_cache = False\n",
    "model.config.pretraining_tp = 1\n",
    "\n",
    "# Load LLaMA tokenizer\n",
    "tokenizer = AutoTokenizer.from_pretrained(model_name, trust_remote_code=True)\n",
    "tokenizer.pad_token = tokenizer.eos_token\n",
    "tokenizer.padding_side = \"right\" # Fix weird overflow issue with fp16 training\n",
    "\n",
    "# Run text generation pipeline with our next model\n",
    "pipe = pipeline(task=\"text-generation\", \n",
    "                model=model, \n",
    "                tokenizer=tokenizer,\n",
    "                max_length=700)"
   ]
  },
  {
   "cell_type": "markdown",
   "id": "43a7d118-de33-4ebd-8286-9485caab9ca7",
   "metadata": {
    "jp-MarkdownHeadingCollapsed": true,
    "tags": []
   },
   "source": [
    "## Model Testing"
   ]
  },
  {
   "cell_type": "code",
   "execution_count": null,
   "id": "02324be1-25b1-4998-aca8-4b94bf532bfe",
   "metadata": {
    "tags": []
   },
   "outputs": [],
   "source": [
    "def make_inference(model, tokenizer, max_length_val, task):\n",
    "    context = \"\"\"You are a helpful assistant to generate Python code that performs a certain task.\n",
    "                \\nBelow is the task that the Python code must do.\"\"\"\n",
    "    \n",
    "    # Ignore warnings\n",
    "    logging.set_verbosity(logging.CRITICAL)\n",
    "    \n",
    "    # Run text generation pipeline with our next model\n",
    "    pipe = pipeline(task=\"text-generation\", \n",
    "                    model=model, \n",
    "                    tokenizer=tokenizer,\n",
    "                    max_length=max_length_val)\n",
    "    \n",
    "    reformatted_prompt = f\"\"\"<s>[INST]\n",
    "                                    \\n{context}\n",
    "                                    \\n{task}\n",
    "                                    \\n[/INST]\n",
    "                                    \\nResponse:\n",
    "                                    \\n\"\"\"\n",
    "\n",
    "    response = pipe(reformatted_prompt)\n",
    "    \n",
    "    return response"
   ]
  },
  {
   "cell_type": "code",
   "execution_count": null,
   "id": "b14d8ad8-1396-4dec-90fc-dd7e25c54a31",
   "metadata": {
    "tags": []
   },
   "outputs": [],
   "source": [
    "task = 'Create a for loop in Python that prints the output of a multiplication table for numbers from 1 to 10'\n",
    "response = make_inference(model, tokenizer, 140, task)"
   ]
  },
  {
   "cell_type": "code",
   "execution_count": null,
   "id": "abcbab52-3094-409d-9ac2-469780577b99",
   "metadata": {
    "tags": []
   },
   "outputs": [],
   "source": [
    "print(response[0]['generated_text'])"
   ]
  },
  {
   "cell_type": "markdown",
   "id": "62dbcb08-43da-4076-b7f4-fd94b58b23cc",
   "metadata": {
    "jp-MarkdownHeadingCollapsed": true,
    "tags": []
   },
   "source": [
    "# Load, Process, and Store Dataset"
   ]
  },
  {
   "cell_type": "markdown",
   "id": "cb0cd63c-42ef-4837-98fb-2d847e28f22d",
   "metadata": {
    "jp-MarkdownHeadingCollapsed": true,
    "tags": []
   },
   "source": [
    "## Load and Process Dataset from The HuggingFace Hub"
   ]
  },
  {
   "cell_type": "code",
   "execution_count": null,
   "id": "f2b584c4-320c-404e-8915-e563e65a07fe",
   "metadata": {},
   "outputs": [],
   "source": [
    "def transform_prompt_into_a_proper_format(template):\n",
    "    return f\"\"\"<s>[INST]\\n{template}\\n[/INST]\\nResponse:\"\"\"\n",
    "\n",
    "def transform_dataset_into_proper_format(row):    \n",
    "    instruction = row['instruction']\n",
    "    input_val = row['input']\n",
    "    output_val = row['output']\n",
    "    \n",
    "    sample = f\"\"\"\n",
    "                \\nTask:\n",
    "                \\n{instruction}\\n{input_val} \n",
    "                \\nResponse:\n",
    "                \\n{output_val}\n",
    "                \"\"\"\n",
    "            \n",
    "    return {'sample': sample}\n",
    "\n",
    "def convert_huggingface_data_to_documents(dataset):\n",
    "    # Load dataset\n",
    "    dataset = load_dataset(dataset_name, split=\"train\").shuffle(seed=42) \\\n",
    "                                                            .select(range(2500)) \\\n",
    "                                                            .map(transform_dataset_into_proper_format)\n",
    "    \n",
    "    # convert data into documents type of data\n",
    "    docs = [LangchainDocument(page_content=doc[\"sample\"], metadata={\"index\": i}) for i, doc in enumerate(tqdm(dataset))]\n",
    "                                                                    \n",
    "    return docs"
   ]
  },
  {
   "cell_type": "code",
   "execution_count": null,
   "id": "bf5f9196-7cf6-4a9f-bb7e-f19385508b4b",
   "metadata": {},
   "outputs": [],
   "source": [
    "# Load dataset\n",
    "dataset_name = \"iamtarun/python_code_instructions_18k_alpaca\"\n",
    "dataset = load_dataset(dataset_name, split=\"train\")\n",
    "\n",
    "# Clean input column\n",
    "dataset = dataset.map(lambda row: {'input':''} if len(row['input']) == 0 or row['input'] == 'Not applicable' else {'input':row['input']})\n",
    "\n",
    "transformed_dataset = dataset.map(transform_dataset_into_proper_format)\n",
    "\n",
    "docs = convert_huggingface_data_to_documents(transformed_dataset)"
   ]
  },
  {
   "cell_type": "markdown",
   "id": "e2ef2002-5ea6-40f1-8c09-86a3a31b4653",
   "metadata": {
    "jp-MarkdownHeadingCollapsed": true,
    "tags": []
   },
   "source": [
    "## Embed the Dataset and Stores it on a Vector Database"
   ]
  },
  {
   "cell_type": "code",
   "execution_count": null,
   "id": "ca53612f-e90a-402b-a671-3dd08f844370",
   "metadata": {
    "tags": []
   },
   "outputs": [],
   "source": [
    "embedding_model_name = 'sentence-transformers/all-mpnet-base-v2'\n",
    "embedding_model_kwargs = {'device': 'cpu'}\n",
    "\n",
    "embedding_model = AutoModel.from_pretrained(embedding_model_name, \n",
    "                                            trust_remote_code=True) \n",
    "embeddings = HuggingFaceEmbeddings(\n",
    "            model_name=embedding_model_name,\n",
    "            model_kwargs=embedding_model_kwargs)"
   ]
  },
  {
   "cell_type": "code",
   "execution_count": null,
   "id": "efef373d-087e-4f87-8dd6-b85c97dad21b",
   "metadata": {
    "tags": []
   },
   "outputs": [],
   "source": [
    " vectorstore = Chroma.from_documents(\n",
    "                     documents=docs,    # Data\n",
    "                     embedding=embeddings,    # Embedding model\n",
    "                     persist_directory=\"chroma_db/chroma_db_all-mpnet-base-v2\"    # Directory to save data\n",
    "                     )"
   ]
  },
  {
   "cell_type": "code",
   "execution_count": null,
   "id": "04bce887-bcdb-4b27-a5cc-9cd978153a00",
   "metadata": {
    "tags": []
   },
   "outputs": [],
   "source": [
    "vectorstore_disk = Chroma(\n",
    "                    persist_directory=\"chroma_db/chroma_db_all-mpnet-base-v2\",    # Directory of db\n",
    "                    embedding_function=embeddings   # Embedding model\n",
    "               )\n",
    "\n",
    "# a vector store retriever to retrieve the embedded documents\n",
    "retriever = vectorstore_disk.as_retriever(search_kwargs={\"k\": 3})"
   ]
  },
  {
   "cell_type": "markdown",
   "id": "0022cf24-1d26-4a3d-a7be-685e3c066de8",
   "metadata": {
    "jp-MarkdownHeadingCollapsed": true,
    "tags": []
   },
   "source": [
    "## Retrieval Testing"
   ]
  },
  {
   "cell_type": "markdown",
   "id": "40547d0f-d4d8-4c71-a5b8-d0bb8e9e6161",
   "metadata": {
    "tags": []
   },
   "source": [
    "retrieval testing on simple query"
   ]
  },
  {
   "cell_type": "code",
   "execution_count": null,
   "id": "bcbc84ef-a5e4-4c76-be25-aa6785ea6137",
   "metadata": {
    "tags": []
   },
   "outputs": [],
   "source": [
    "simple_query = 'Create a Python program that performs a multiplication table for numbers from 1 to 10'\n",
    "[print(d.page_content) for d in retriever.get_relevant_documents(simple_query)]"
   ]
  },
  {
   "cell_type": "markdown",
   "id": "08de7ae4-beba-43af-aa0b-65633d4ba890",
   "metadata": {},
   "source": [
    "retrieval testing on multi-step query"
   ]
  },
  {
   "cell_type": "code",
   "execution_count": null,
   "id": "9a989e86-3a8c-40ed-952e-63dafa5fcf8a",
   "metadata": {
    "tags": []
   },
   "outputs": [],
   "source": [
    "multi_step_query = 'Create a Python program that performs a multiplication table for numbers from 1 to 10, then store the resulting multiplication table into a pandas data frame'\n",
    "[print(d.page_content) for d in retriever.get_relevant_documents(multi_step_query)]"
   ]
  },
  {
   "cell_type": "markdown",
   "id": "241f865d-1976-4e32-b1a1-77787894ade9",
   "metadata": {},
   "source": [
    "retrieval testing on complex query"
   ]
  },
  {
   "cell_type": "code",
   "execution_count": null,
   "id": "fe3251bc-a8ae-46e0-a1a6-b7744155161f",
   "metadata": {
    "tags": []
   },
   "outputs": [],
   "source": [
    "complex_query = 'Create a Python program that performs a multiplication table for numbers divisible by 2 or 3'\n",
    "[print(d.page_content) for d in retriever.get_relevant_documents(complex_query)]"
   ]
  },
  {
   "cell_type": "markdown",
   "id": "48e2c4b3-37b5-4733-992f-c3209b74fdfe",
   "metadata": {
    "jp-MarkdownHeadingCollapsed": true,
    "tags": []
   },
   "source": [
    "# Retrieval Augmented Generation"
   ]
  },
  {
   "cell_type": "code",
   "execution_count": null,
   "id": "4ae3924d-6959-41b9-b5ec-6190f09fe085",
   "metadata": {
    "tags": []
   },
   "outputs": [],
   "source": [
    "def format_docs(docs):\n",
    "    return \"\\n\".join(d.page_content.split('Response:')[1] for d in docs)\n",
    "\n",
    "def get_response_from_query(pipeline, retriever, query):\n",
    "    # retrieve documents that has high similarity with the given query\n",
    "    docs = retriever.get_relevant_documents(query)\n",
    "    \n",
    "    # create an instance of the model\n",
    "    llm = HuggingFacePipeline(pipeline=pipeline)\n",
    "\n",
    "    # prompt text for the model \n",
    "    prompt = PromptTemplate(\n",
    "        input_variables=[\"query\", \"docs\"],\n",
    "        template = \"\"\"<s>[INST]\n",
    "                            \\nYou are a helpful assistant to generate Python code that performs a certain task.\n",
    "                            \\nBelow is the task that the Python code must do.\n",
    "                            \\n{query}\n",
    "                            \\nUtilize these informations below to generate the code.\n",
    "                            \\n{docs}\n",
    "                            \\nIf you feel like you don't have enough information to develop the code, say \"I don't know\"\n",
    "                            \\n[/INST]\n",
    "                            \\nResponse:\"\"\"\n",
    "        )\n",
    "        \n",
    "\n",
    "    # chain of steps to make rag prompt\n",
    "    rag_chain = (\n",
    "        {\"docs\": retriever | format_docs, \"query\": RunnablePassthrough()}\n",
    "        | prompt\n",
    "        | llm\n",
    "        | StrOutputParser()\n",
    "    )\n",
    "\n",
    "    # make prompt based on the chain created\n",
    "    resp = rag_chain.invoke(query)\n",
    "\n",
    "    return resp, docs"
   ]
  },
  {
   "cell_type": "code",
   "execution_count": null,
   "id": "6302ff20-bd13-4fa5-8262-ed8516463669",
   "metadata": {},
   "outputs": [],
   "source": [
    "query = 'Create a for loop in Python that prints the output of a multiplication table for numbers from 1 to 10.'\n",
    "resp, docs = get_response_from_query(pipe, retriever, query)\n",
    "\n",
    "print(resp.split('</s>')[0], '\\n')"
   ]
  },
  {
   "cell_type": "markdown",
   "id": "958ee07d-2ea3-4d8a-80c7-64bf29f799c2",
   "metadata": {
    "jp-MarkdownHeadingCollapsed": true,
    "tags": []
   },
   "source": [
    "# Retrieval Augmented Generation with Query Translation"
   ]
  },
  {
   "cell_type": "markdown",
   "id": "bb641609-9366-4a82-bb7f-dcd56cf4bf71",
   "metadata": {
    "jp-MarkdownHeadingCollapsed": true,
    "tags": []
   },
   "source": [
    "## RAG with Multi-Query"
   ]
  },
  {
   "cell_type": "code",
   "execution_count": null,
   "id": "fc212196-8ace-4218-b2c8-1c22fd0febb1",
   "metadata": {
    "tags": []
   },
   "outputs": [],
   "source": [
    "def create_chain_for_generating_more_queries():\n",
    "    # prompt text for generating more queries from a query\n",
    "    template = \"\"\"\n",
    "    You are an AI language model assistant. \n",
    "    Your task is to generate three different versions of the query, each versions have their own perspectives.\n",
    "    By generating multiple perspectives on the user question, your goal is to overcome the limitations of the distance-based similarity search.\n",
    "    By generating multiple shorter versions of the given user question, your goal is to help the user overcome some of the limitations of the distance-based similarity search. \n",
    "    Provide these different versions of the query separated by newline.\n",
    "    The query is: {query}\n",
    "    \"\"\"\n",
    "   \n",
    "    prompt_perspectives = ChatPromptTemplate.from_template(transform_prompt_into_a_proper_format(template))\n",
    "\n",
    "    # create an instance of the model\n",
    "    llm_gemini = ChatGoogleGenerativeAI(model=\"gemini-pro\", google_api_key=GOOGLE_API_KEY)\n",
    "    \n",
    "    # chain of steps to generate more queries \n",
    "    generate_queries = (\n",
    "        prompt_perspectives \n",
    "        | llm_gemini\n",
    "        | StrOutputParser() \n",
    "        | (lambda x: x.split(\"\\n\"))\n",
    "    )\n",
    "    \n",
    "    return generate_queries\n",
    "    \n",
    "def _get_unique_union(documents):\n",
    "    \"\"\" Unique union of retrieved docs \"\"\"\n",
    "    # Flatten list of lists, and convert each Document to string\n",
    "    flattened_docs = [dumps(doc) for sublist in documents for doc in sublist]\n",
    "    \n",
    "    # Get unique documents\n",
    "    unique_docs = list(set(flattened_docs))\n",
    "    \n",
    "    return ''.join([loads(doc).page_content for doc in unique_docs][:3])\n",
    "\n",
    "def create_retrieval_chain(generate_queries, retriever):\n",
    "    retrieval_chain = generate_queries | retriever.map() | _get_unique_union\n",
    "    \n",
    "    return retrieval_chain\n",
    "\n",
    "def get_response_from_multi_query(pipeline, retrieval_chain, query):\n",
    "    # retrieve documents that has high similarity with the given query\n",
    "    docs = retrieval_chain.invoke({\"query\":query})\n",
    "    \n",
    "    # create an instance of the model\n",
    "    llm = HuggingFacePipeline(pipeline=pipeline)\n",
    "\n",
    "    # prompt text for the model \n",
    "    template = \"\"\"<s>[INST]\n",
    "                        \\nYou are a helpful assistant to generate Python code that performs a certain task.\n",
    "                        \\nBelow is the task that the Python code must do.\n",
    "                        \\n{query}\n",
    "                        \\nUtilize the information below to help generate the Python code.\n",
    "                        \\n{docs}\n",
    "                        \\n[/INST]\n",
    "                        \\nResponse:\"\"\"\n",
    "\n",
    "    prompt = ChatPromptTemplate.from_template(template)\n",
    "\n",
    "    # chain of steps to make rag prompt\n",
    "    rag_chain = (\n",
    "        {\"docs\": retrieval_chain, \n",
    "         \"query\": itemgetter(\"query\")} \n",
    "        | prompt\n",
    "        | llm\n",
    "        | StrOutputParser()\n",
    "    )\n",
    "    \n",
    "    # make prompt based on the chain created\n",
    "    resp = rag_chain.invoke({\"query\":query})\n",
    "        \n",
    "    return resp, docs"
   ]
  },
  {
   "cell_type": "code",
   "execution_count": null,
   "id": "aee5b9f4-a6d1-4e5a-bb30-12cda421fb91",
   "metadata": {
    "tags": []
   },
   "outputs": [],
   "source": [
    "generate_queries = create_chain_for_generating_more_queries()\n",
    "retrieval_chain = create_retrieval_chain(generate_queries, retriever)"
   ]
  },
  {
   "cell_type": "markdown",
   "id": "1280623d-f6bd-41c0-9bb9-735c96484636",
   "metadata": {
    "jp-MarkdownHeadingCollapsed": true,
    "tags": []
   },
   "source": [
    "### response for simple query"
   ]
  },
  {
   "cell_type": "code",
   "execution_count": null,
   "id": "17dd2231-9a83-4e86-8710-026f423f0501",
   "metadata": {
    "tags": []
   },
   "outputs": [],
   "source": [
    "resp, docs = get_response_from_multi_query(pipe, retrieval_chain, simple_query)\n",
    "\n",
    "print(resp.split('</s>')[0], '\\n')"
   ]
  },
  {
   "cell_type": "markdown",
   "id": "2e8a63df-3bdc-4d49-8e0e-0ebf6d8d38aa",
   "metadata": {
    "tags": []
   },
   "source": [
    "### response for multi-step query"
   ]
  },
  {
   "cell_type": "code",
   "execution_count": null,
   "id": "e48482a5-2a96-469b-ab11-5cc82ae026bb",
   "metadata": {
    "tags": []
   },
   "outputs": [],
   "source": [
    "resp, docs = get_response_from_multi_query(pipe, retrieval_chain, multi_step_query)\n",
    "\n",
    "print(resp.split('</s>')[0], '\\n')"
   ]
  },
  {
   "cell_type": "markdown",
   "id": "2e181048-03ec-4dc6-bf84-6ddddd8b0632",
   "metadata": {},
   "source": [
    "### response for complex query"
   ]
  },
  {
   "cell_type": "code",
   "execution_count": null,
   "id": "616736e2-ee4a-4f6c-b280-b82062d45bc1",
   "metadata": {
    "tags": []
   },
   "outputs": [],
   "source": [
    "resp, docs = get_response_from_multi_query(pipe, retrieval_chain, complex_query)\n",
    "\n",
    "print(resp.split('</s>')[0], '\\n')"
   ]
  },
  {
   "cell_type": "markdown",
   "id": "36f9065b-b2fc-4592-9e2b-67c74beadbd6",
   "metadata": {
    "jp-MarkdownHeadingCollapsed": true,
    "tags": []
   },
   "source": [
    "## RAG-Fusion"
   ]
  },
  {
   "cell_type": "code",
   "execution_count": null,
   "id": "050bd752-bf38-4fb1-ade0-64e3a88dc4c5",
   "metadata": {
    "tags": []
   },
   "outputs": [],
   "source": [
    "def create_chain_for_generating_more_queries():\n",
    "    # prompt text for generating more queries from a query\n",
    "    template = \"\"\"\n",
    "    You are a helpful assistant that generates multiple instructions based on the given instruction\n",
    "    Generate multiple search instruction related to: {query}\n",
    "    Output (4 queries):\n",
    "    \"\"\"\n",
    "    prompt = ChatPromptTemplate.from_template(template)\n",
    "    \n",
    "    # create an instance of the gemini model\n",
    "    llm_gemini = ChatGoogleGenerativeAI(model=\"gemini-pro\", google_api_key=GOOGLE_API_KEY)\n",
    "    generate_queries = (\n",
    "        prompt \n",
    "        | llm_gemini\n",
    "        | StrOutputParser() \n",
    "        | (lambda x: x.split(\"\\n\"))\n",
    "    )\n",
    "    \n",
    "    return generate_queries\n",
    "\n",
    "def _reciprocal_rank_fusion(results, k=3):    \n",
    "    # Initialize a dictionary to hold fused scores for each unique document\n",
    "    fused_scores = {}\n",
    "\n",
    "    # Iterate through each list of ranked documents\n",
    "    for docs in results:\n",
    "        # Iterate through each document in the list, with its rank (position in the list)\n",
    "        for rank, doc in enumerate(docs):\n",
    "            # Convert the document to a string format to use as a key (assumes documents can be serialized to JSON)\n",
    "            doc_str = dumps(doc)\n",
    "            # If the document is not yet in the fused_scores dictionary, add it with an initial score of 0\n",
    "            if doc_str not in fused_scores:\n",
    "                fused_scores[doc_str] = 0\n",
    "            # Retrieve the current score of the document, if any\n",
    "            previous_score = fused_scores[doc_str]\n",
    "            # Update the score of the document using the RRF formula: 1 / (rank + k)\n",
    "            fused_scores[doc_str] += 1 / (rank + k)\n",
    "\n",
    "    # Sort the documents based on their fused scores in descending order to get the final reranked results\n",
    "    reranked_results = [\n",
    "        (loads(doc), score)\n",
    "        for doc, score in sorted(fused_scores.items(), key=lambda x: x[1], reverse=True)\n",
    "    ][:k]\n",
    "\n",
    "    # Return the reranked results as a list of tuples, each containing the document and its fused score\n",
    "    return ''.join([doc.page_content for doc, score in reranked_results])\n",
    "\n",
    "def create_retrieval_chain(generate_queries, retriever):\n",
    "    retrieval_chain = generate_queries | retriever.map() | _reciprocal_rank_fusion\n",
    "    \n",
    "    return retrieval_chain\n",
    "\n",
    "def get_response_from_rag_fusion(pipeline, retrieval_chain, query):\n",
    "    # retrieve documents that has high similarity with the given query\n",
    "    docs = retrieval_chain.invoke({\"query\":query})\n",
    "    \n",
    "    # create an instance of the model\n",
    "    llm = HuggingFacePipeline(pipeline=pipeline)\n",
    "    \n",
    "    # prompt text for the model \n",
    "    template = \"\"\"<s>[INST]\n",
    "                        \\nYou are a helpful assistant to generate Python code that performs a certain task.\n",
    "                        \\nBelow is the task that the Python code must do.\n",
    "                        \\n{query}\n",
    "                        \\nUtilize these informations below to generate the code.\n",
    "                        \\n{docs}\n",
    "                        \\nIf you feel like you don't have enough information to develop the code, say \"I don't know\"\n",
    "                        \\n[/INST]\n",
    "                        \\nResponse:\"\"\"\n",
    "    \n",
    "    prompt = ChatPromptTemplate.from_template(template)\n",
    "                \n",
    "    rag_chain = (   \n",
    "        {\"docs\": retrieval_chain, \n",
    "         \"query\": itemgetter(\"query\")} \n",
    "        | prompt\n",
    "        | llm\n",
    "        | StrOutputParser()  \n",
    "    )\n",
    "   \n",
    "    # make prompt based on the chain created\n",
    "    resp = rag_chain.invoke({\"query\":query})\n",
    "        \n",
    "    return resp, docs"
   ]
  },
  {
   "cell_type": "code",
   "execution_count": null,
   "id": "0fa060e2-955c-403d-92e7-559f174fc1de",
   "metadata": {
    "tags": []
   },
   "outputs": [],
   "source": [
    "generate_queries = create_chain_for_generating_more_queries()\n",
    "retrieval_chain = create_retrieval_chain(generate_queries, retriever)"
   ]
  },
  {
   "cell_type": "code",
   "execution_count": null,
   "id": "62820cb0-e415-4f39-a03a-1d8028e6fe66",
   "metadata": {
    "tags": []
   },
   "outputs": [],
   "source": [
    "query = 'Create a Python programs that performs multiplication table for numbers from 1 to 10, then store the result in a dataframe'\n",
    "\n",
    "resp, docs = get_response_from_rag_fusion(pipe, retrieval_chain, query)\n",
    "\n",
    "print(resp.split('</s>')[0], '\\n')"
   ]
  }
 ],
 "metadata": {
  "kernelspec": {
   "display_name": "Python 3 (ipykernel)",
   "language": "python",
   "name": "python3"
  },
  "language_info": {
   "codemirror_mode": {
    "name": "ipython",
    "version": 3
   },
   "file_extension": ".py",
   "mimetype": "text/x-python",
   "name": "python",
   "nbconvert_exporter": "python",
   "pygments_lexer": "ipython3",
   "version": "3.11.7"
  }
 },
 "nbformat": 4,
 "nbformat_minor": 5
}
