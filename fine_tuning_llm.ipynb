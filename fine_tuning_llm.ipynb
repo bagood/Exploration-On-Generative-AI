{
 "cells": [
  {
   "cell_type": "code",
   "execution_count": null,
   "id": "1c1144ea-460c-4eb6-8e7e-fc61c1a4bde6",
   "metadata": {
    "tags": []
   },
   "outputs": [],
   "source": [
    "# !pip install --user --upgrade pip"
   ]
  },
  {
   "cell_type": "code",
   "execution_count": null,
   "id": "38f86f47-99a8-4d88-8f44-c2e1f2585e30",
   "metadata": {
    "tags": []
   },
   "outputs": [],
   "source": [
    "# !pip install --user --upgrade bitsandbytes peft trl datasets transformers accelerate"
   ]
  },
  {
   "cell_type": "markdown",
   "id": "e7b7f5ce-70bb-41fb-a239-d80e4f0384cd",
   "metadata": {
    "tags": []
   },
   "source": [
    "# Import Packages & Set All Parameters"
   ]
  },
  {
   "cell_type": "markdown",
   "id": "46cebd09-ef2b-40a9-805e-7695f3781d76",
   "metadata": {
    "jp-MarkdownHeadingCollapsed": true,
    "tags": []
   },
   "source": [
    "## Import Packages"
   ]
  },
  {
   "cell_type": "code",
   "execution_count": null,
   "id": "31ae977d-43e9-4f33-9e47-8927a73f35b3",
   "metadata": {
    "tags": []
   },
   "outputs": [],
   "source": [
    "import os\n",
    "import torch\n",
    "from datasets import load_dataset\n",
    "from transformers import (\n",
    "    AutoModelForCausalLM,\n",
    "    AutoTokenizer,\n",
    "    BitsAndBytesConfig,\n",
    "    HfArgumentParser,\n",
    "    TrainingArguments,\n",
    "    pipeline,\n",
    "    logging\n",
    ")\n",
    "from peft import LoraConfig, PeftModel\n",
    "from trl import SFTTrainer"
   ]
  },
  {
   "cell_type": "markdown",
   "id": "618248ce-805f-47c6-ba0a-7d4851e870cd",
   "metadata": {
    "tags": []
   },
   "source": [
    "## Source of The Model & Dataset"
   ]
  },
  {
   "cell_type": "code",
   "execution_count": null,
   "id": "1b1dc10d-9056-4b47-b623-58c11a5c4b1b",
   "metadata": {},
   "outputs": [],
   "source": [
    "# The model that you want to train from the Hugging Face hub\n",
    "# For Llama\n",
    "model_type = 'llama'\n",
    "model_name = \"NousResearch/Llama-2-7b-chat-hf\"\n",
    "model_token = None\n",
    "new_model = \"Llama2-7b-chat-finetune\"\n",
    "\n",
    "# # For Gemma model\n",
    "# model_type = 'gemma'\n",
    "# model_name = \"google/gemma-2b\"\n",
    "# model_token = 'GEMMA_TOKEN' \n",
    "# new_model = \"Gemma-2b-chat-finetune\"\n",
    "\n",
    "# The instruction dataset to use\n",
    "dataset_name = \"iamtarun/python_code_instructions_18k_alpaca\""
   ]
  },
  {
   "cell_type": "markdown",
   "id": "68433b08-8aae-4550-a821-6063bdfe8553",
   "metadata": {
    "jp-MarkdownHeadingCollapsed": true,
    "tags": []
   },
   "source": [
    "## Parameters for Quantization"
   ]
  },
  {
   "cell_type": "code",
   "execution_count": null,
   "id": "c8800984-8480-426b-a676-d792be68f871",
   "metadata": {
    "tags": []
   },
   "outputs": [],
   "source": [
    "# LoRA attention dimension\n",
    "lora_r = 8\n",
    "\n",
    "# Alpha parameter for LoRA scaling\n",
    "lora_alpha = 12\n",
    "\n",
    "# Dropout probability for LoRA layers\n",
    "lora_dropout = 0.25\n",
    "\n",
    "# Activate 4-bit precision base model loading\n",
    "use_4bit = True\n",
    "\n",
    "# Compute dtype for 4-bit base models\n",
    "bnb_4bit_compute_dtype = \"float16\"\n",
    "\n",
    "# Quantization type (fp4 or nf4)\n",
    "bnb_4bit_quant_type = \"nf4\"\n",
    "\n",
    "# Activate nested quantization for 4-bit base models (double quantization)\n",
    "use_nested_quant = False"
   ]
  },
  {
   "cell_type": "markdown",
   "id": "60252b78-e566-4226-bd03-0cf3c0f6d194",
   "metadata": {
    "jp-MarkdownHeadingCollapsed": true,
    "tags": []
   },
   "source": [
    "## Training Parameters"
   ]
  },
  {
   "cell_type": "code",
   "execution_count": null,
   "id": "ac3e3f9b-88b2-4bc6-9a68-2fb2a4a293a4",
   "metadata": {
    "tags": []
   },
   "outputs": [],
   "source": [
    "# Output directory where the model predictions and checkpoints will be stored\n",
    "output_dir = \"./results\"\n",
    "\n",
    "# Number of training epochs\n",
    "num_train_epochs = 1\n",
    "\n",
    "# Enable fp16/bf16 training (set bf16 to True with an A100)\n",
    "fp16 = False\n",
    "bf16 = False\n",
    "\n",
    "# Batch size per GPU for training\n",
    "per_device_train_batch_size = 1\n",
    "\n",
    "# Batch size per GPU for evaluation\n",
    "per_device_eval_batch_size = 1\n",
    "\n",
    "# Number of update steps to accumulate the gradients for\n",
    "gradient_accumulation_steps = 1\n",
    "\n",
    "# Enable gradient checkpointing\n",
    "gradient_checkpointing = True\n",
    "\n",
    "# Maximum gradient normal (gradient clipping)\n",
    "max_grad_norm = 0.3\n",
    "\n",
    "# Initial learning rate (AdamW optimizer)\n",
    "learning_rate = 2e-4\n",
    "\n",
    "# Weight decay to apply to all layers except bias/LayerNorm weights\n",
    "weight_decay = 0.001\n",
    "\n",
    "# Optimizer to use\n",
    "optim = \"paged_adamw_32bit\"\n",
    "\n",
    "# Learning rate schedule\n",
    "lr_scheduler_type = \"cosine\"\n",
    "\n",
    "# Number of training steps (overrides num_train_epochs)\n",
    "max_steps = 100\n",
    "\n",
    "# Ratio of steps for a linear warmup (from 0 to learning rate)\n",
    "warmup_ratio = 0.03\n",
    "\n",
    "# Group sequences into batches with same length\n",
    "# Saves memory and speeds up training considerably\n",
    "group_by_length = True\n",
    "\n",
    "# Save checkpoint every X updates steps\n",
    "save_steps = 0\n",
    "\n",
    "# Log every X updates steps\n",
    "logging_steps = 5\n",
    "\n",
    "# Maximum sequence length to use\n",
    "max_seq_length = 500\n",
    "\n",
    "# Pack multiple short examples in the same input sequence to increase efficiency\n",
    "packing = False\n",
    "\n",
    "# Load the entire model on the GPU 0\n",
    "device_map = {\"\": 0}"
   ]
  },
  {
   "cell_type": "markdown",
   "id": "4607b497-42f1-4812-aaf4-8ac21463acb9",
   "metadata": {
    "jp-MarkdownHeadingCollapsed": true,
    "tags": []
   },
   "source": [
    "# Load & Process The Dataset "
   ]
  },
  {
   "cell_type": "code",
   "execution_count": null,
   "id": "f4edb22b-e263-4e0e-8add-9a54bd1d7c60",
   "metadata": {
    "tags": []
   },
   "outputs": [],
   "source": [
    "# Load dataset\n",
    "dataset = load_dataset(dataset_name, split=\"train\").shuffle(seed=42).select(range(1000))"
   ]
  },
  {
   "cell_type": "code",
   "execution_count": null,
   "id": "cde6b420-b27b-41cb-a42d-c77dee85d911",
   "metadata": {},
   "outputs": [],
   "source": [
    "print(dataset)"
   ]
  },
  {
   "cell_type": "code",
   "execution_count": null,
   "id": "51aa0258-667e-4725-99ec-b48b4a5a3d0a",
   "metadata": {
    "tags": []
   },
   "outputs": [],
   "source": [
    "context = f\"\"\"You are a helpful assistant that generate codes in Python to do a certain thing.\n",
    "            \\nYour task is to follow the given instruction that describes a task. Write a response that appropriately completes the task.\n",
    "            \\nThere might be an input provided, if so, utilize the input to complete the task.\n",
    "            \\nBelow is the instruction and input.\"\"\"\n",
    "    \n",
    "def transform_dataset_into_proper_format(row):\n",
    "    instruction = row['instruction']\n",
    "    input_val = row['input']\n",
    "    output_val = row['output']\n",
    "    \n",
    "    if model_type == 'llama':\n",
    "        reformatted_prompt = f\"\"\"<s>[INST]\\n{context}\\n\\nInstruction:\\n{instruction}\\n\\nInput:\\n{input_val}\\n[/INST]\\n\\nOutput:\\n{output_val}\\n</s>\"\"\"\n",
    "        \n",
    "    elif model_type == 'gemma':\n",
    "        reformatted_prompt = f\"\"\"<start_of_turn>User\\n{context}\\n\\nInstruction:\\n{instruction}\\n\\nInput:\\n{input_val}\\n<end_of_turn>\\n<start_of_turn>Model\\n\\n{output_val}<end_of_turn>\"\"\"\n",
    "    \n",
    "    return {'prompt': reformatted_prompt}\n",
    "\n",
    "transformed_dataset = dataset.map(transform_dataset_into_proper_format)"
   ]
  },
  {
   "cell_type": "code",
   "execution_count": null,
   "id": "0302cb86-d1b4-4f49-8323-07825606b76a",
   "metadata": {
    "tags": []
   },
   "outputs": [],
   "source": [
    "print(transformed_dataset[5]['prompt'])"
   ]
  },
  {
   "cell_type": "code",
   "execution_count": null,
   "id": "ac74a002-d9f2-456b-9782-0ad552d1c101",
   "metadata": {
    "tags": []
   },
   "outputs": [],
   "source": [
    "split_transformed_dataset = transformed_dataset.train_test_split(seed=42, test_size=0.01)"
   ]
  },
  {
   "cell_type": "markdown",
   "id": "264108da-8409-4d2a-a147-42f55a7d30b9",
   "metadata": {
    "jp-MarkdownHeadingCollapsed": true,
    "tags": []
   },
   "source": [
    "# Quantize & Fine-Tune LLM"
   ]
  },
  {
   "cell_type": "code",
   "execution_count": null,
   "id": "4f26260f-f503-49eb-bb43-58d0fa77c25b",
   "metadata": {
    "tags": []
   },
   "outputs": [],
   "source": [
    "# Load tokenizer and model with QLoRA configuration\n",
    "compute_dtype = getattr(torch, bnb_4bit_compute_dtype)\n",
    "\n",
    "bnb_config = BitsAndBytesConfig(\n",
    "    load_in_4bit=use_4bit,\n",
    "    bnb_4bit_quant_type=bnb_4bit_quant_type,\n",
    "    bnb_4bit_compute_dtype=compute_dtype,\n",
    "    bnb_4bit_use_double_quant=use_nested_quant,\n",
    ")\n",
    "\n",
    "# Load base model\n",
    "model = AutoModelForCausalLM.from_pretrained(\n",
    "    model_name,\n",
    "    quantization_config=bnb_config,\n",
    "    device_map=device_map,\n",
    "    token=model_token\n",
    ")\n",
    "model.config.use_cache = False\n",
    "model.config.pretraining_tp = 1\n",
    "\n",
    "# Load LLaMA tokenizer\n",
    "tokenizer = AutoTokenizer.from_pretrained(model_name, trust_remote_code=True)\n",
    "tokenizer.pad_token = tokenizer.eos_token\n",
    "tokenizer.padding_side = \"right\" # Fix weird overflow issue with fp16 training\n",
    "\n",
    "# Load LoRA configuration\n",
    "peft_config = LoraConfig(\n",
    "    lora_alpha=lora_alpha,\n",
    "    lora_dropout=lora_dropout,\n",
    "    r=lora_r,\n",
    "    bias=\"none\",\n",
    "    target_modules=[\"q_proj\", \"o_proj\", \"k_proj\", \"v_proj\", \"gate_proj\", \"up_proj\", \"down_proj\"],\n",
    "    task_type=\"CAUSAL_LM\",\n",
    ")\n",
    "\n",
    "# Set training parameters\n",
    "training_arguments = TrainingArguments(\n",
    "    output_dir=output_dir,\n",
    "    num_train_epochs=num_train_epochs,\n",
    "    per_device_train_batch_size=per_device_train_batch_size,\n",
    "    gradient_accumulation_steps=gradient_accumulation_steps,\n",
    "    optim=optim,\n",
    "    save_steps=save_steps,\n",
    "    logging_steps=logging_steps,\n",
    "    learning_rate=learning_rate,\n",
    "    weight_decay=weight_decay,\n",
    "    fp16=fp16,\n",
    "    bf16=bf16,\n",
    "    max_grad_norm=max_grad_norm,\n",
    "    max_steps=max_steps,\n",
    "    warmup_ratio=warmup_ratio,\n",
    "    group_by_length=group_by_length,\n",
    "    lr_scheduler_type=lr_scheduler_type,\n",
    "    report_to=\"tensorboard\"\n",
    ")\n",
    "\n",
    "# Set supervised fine-tuning parameters\n",
    "trainer = SFTTrainer(\n",
    "    model=model,\n",
    "    train_dataset=split_transformed_dataset['train'],\n",
    "    peft_config=peft_config,\n",
    "    dataset_text_field=\"prompt\",\n",
    "    max_seq_length=max_seq_length,\n",
    "    tokenizer=tokenizer,\n",
    "    args=training_arguments,\n",
    "    packing=packing\n",
    ")\n",
    "\n",
    "# Train model\n",
    "trainer.train()"
   ]
  },
  {
   "cell_type": "code",
   "execution_count": null,
   "id": "f96172e4-67aa-4698-ae85-167e5e57f13a",
   "metadata": {
    "tags": []
   },
   "outputs": [],
   "source": [
    "# Save trained model\n",
    "trainer.model.save_pretrained(new_model)"
   ]
  },
  {
   "cell_type": "markdown",
   "id": "c25cdef2-bf43-4f99-83ed-175989862a6c",
   "metadata": {
    "tags": []
   },
   "source": [
    "# Playing Around with The Fine-Tuned LLM"
   ]
  },
  {
   "cell_type": "code",
   "execution_count": null,
   "id": "7902c44f-e283-40b9-8322-0aa53fa1f121",
   "metadata": {
    "tags": []
   },
   "outputs": [],
   "source": [
    "def make_inference(index, max_length_val):\n",
    "    # Ignore warnings\n",
    "    logging.set_verbosity(logging.CRITICAL)\n",
    "    \n",
    "    instruction = split_transformed_dataset['test'][index]['instruction']\n",
    "    input_val = split_transformed_dataset['test'][index]['input']\n",
    "    \n",
    "    # Run text generation pipeline with our next model\n",
    "    pipe = pipeline(task=\"text-generation\", model=model, tokenizer=tokenizer, max_length=max_length_val)\n",
    "\n",
    "    if model_type == 'llama':\n",
    "        reformatted_prompt = f\"\"\"<s>[INST]\\n{context}\\n\\nInstruction:\\n{instruction}\\n\\nInput:\\n{input_val}\\n[/INST]\\n\\nOutput:\\n\"\"\"\n",
    "\n",
    "    elif model_type == 'gemma':\n",
    "        reformatted_prompt = f\"\"\"<start_of_turn>User\\n{context}\\n\\nInstruction:\\n{instruction}\\n\\nInput:\\n{input_val}\\n<end_of_turn>\\n<start_of_turn>Model\\n\\n\"\"\"\n",
    "\n",
    "    result = pipe(reformatted_prompt)\n",
    "    \n",
    "    return result"
   ]
  },
  {
   "cell_type": "code",
   "execution_count": null,
   "id": "cae8b9f9-87ad-4f37-ba9a-8396794221b6",
   "metadata": {
    "tags": []
   },
   "outputs": [],
   "source": [
    "result = make_inference(2, 190)\n",
    "print(result[0]['generated_text'])"
   ]
  },
  {
   "cell_type": "code",
   "execution_count": null,
   "id": "8f2c7bed-68ac-4c54-bfd5-aeca265732b5",
   "metadata": {
    "tags": []
   },
   "outputs": [],
   "source": [
    "result = make_inference(6, 260)\n",
    "print(result[0]['generated_text'])"
   ]
  },
  {
   "cell_type": "markdown",
   "id": "52e8cfd1-9512-42a3-812a-f277461ccd3a",
   "metadata": {
    "tags": []
   },
   "source": [
    "# Share The Fine-Tuned LLM to The HuggingFace"
   ]
  },
  {
   "cell_type": "code",
   "execution_count": null,
   "id": "a79a8406-f64b-404a-a274-255b71850437",
   "metadata": {
    "tags": []
   },
   "outputs": [],
   "source": [
    "# Empty VRAM\n",
    "del model\n",
    "del trainer\n",
    "import gc\n",
    "gc.collect()\n",
    "gc.collect()"
   ]
  },
  {
   "cell_type": "code",
   "execution_count": null,
   "id": "ffb56071-8f8b-4e90-a63e-b4098139c45a",
   "metadata": {
    "tags": []
   },
   "outputs": [],
   "source": [
    "# Reload model in FP16 and merge it with LoRA weights\n",
    "base_model = AutoModelForCausalLM.from_pretrained(\n",
    "    model_name,\n",
    "    low_cpu_mem_usage=True,\n",
    "    return_dict=True,\n",
    "    torch_dtype=torch.float16,\n",
    "    device_map=device_map,\n",
    ")\n",
    "model = PeftModel.from_pretrained(base_model, new_model)\n",
    "model = model.merge_and_unload()\n",
    "\n",
    "# Reload tokenizer to save it\n",
    "tokenizer = AutoTokenizer.from_pretrained(model_name, trust_remote_code=True)\n",
    "tokenizer.pad_token = tokenizer.eos_token\n",
    "tokenizer.padding_side = \"right\""
   ]
  },
  {
   "cell_type": "code",
   "execution_count": null,
   "id": "c7ecab75-6bdc-4dc7-9528-93ab6f77a671",
   "metadata": {
    "tags": []
   },
   "outputs": [],
   "source": [
    "import locale\n",
    "locale.getpreferredencoding = lambda: \"UTF-8\""
   ]
  },
  {
   "cell_type": "code",
   "execution_count": null,
   "id": "a1b4bf1c-8d7c-4870-8cb1-48e2fece7589",
   "metadata": {
    "tags": []
   },
   "outputs": [],
   "source": [
    "from huggingface_hub import login\n",
    "login()"
   ]
  },
  {
   "cell_type": "code",
   "execution_count": null,
   "id": "56badcf8-3f5b-4177-9bd7-9cdb335f236f",
   "metadata": {
    "tags": []
   },
   "outputs": [],
   "source": [
    "huggingface_name = 'USERNAME'\n",
    "model.push_to_hub(f\"{huggingface_name}/create_python_code_from_instruction_{model_type}\", check_pr=True)\n",
    "tokenizer.push_to_hub(f\"{huggingface_name}/create_python_code_from_instruction_{model_type}\",check_pr=True)"
   ]
  }
 ],
 "metadata": {
  "kernelspec": {
   "display_name": "Python 3 (ipykernel)",
   "language": "python",
   "name": "python3"
  },
  "language_info": {
   "codemirror_mode": {
    "name": "ipython",
    "version": 3
   },
   "file_extension": ".py",
   "mimetype": "text/x-python",
   "name": "python",
   "nbconvert_exporter": "python",
   "pygments_lexer": "ipython3",
   "version": "3.11.7"
  }
 },
 "nbformat": 4,
 "nbformat_minor": 5
}
